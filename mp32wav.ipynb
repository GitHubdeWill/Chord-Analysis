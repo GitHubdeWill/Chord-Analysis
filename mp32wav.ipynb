{
 "cells": [
  {
   "cell_type": "code",
   "execution_count": 5,
   "metadata": {},
   "outputs": [
    {
     "name": "stdout",
     "output_type": "stream",
     "text": [
      "['8.mp3', '7.mp3', '17.mp3', '24.mp3', '22.mp3', '18.mp3', '27.mp3', '12.mp3', '14.mp3', '2.mp3', '9.mp3', '28.mp3', '23.mp3', '4.mp3', '5.mp3', '15.mp3', '11.mp3', '10.mp3', '3.mp3', '6.mp3', '26.mp3', '19.mp3', '.mp3', '16.mp3', '1.mp3', '25.mp3', '13.mp3', '20.mp3', '21.mp3']\n"
     ]
    }
   ],
   "source": [
    "from os import listdir\n",
    "from os.path import isfile, join\n",
    "mypath = \"./Music/\"\n",
    "\n",
    "onlyfiles = [f for f in listdir(mypath) if isfile(join(mypath, f))]\n",
    "print(onlyfiles)"
   ]
  },
  {
   "cell_type": "code",
   "execution_count": 6,
   "metadata": {},
   "outputs": [],
   "source": [
    "from pydub import AudioSegment\n",
    "\n",
    "for f in onlyfiles:\n",
    "    \n",
    "    sound = AudioSegment.from_mp3(join(mypath, f))\n",
    "    sound.export(join(mypath, f).replace(\"mp3\", \"wav\"), format=\"wav\")"
   ]
  },
  {
   "cell_type": "code",
   "execution_count": null,
   "metadata": {},
   "outputs": [],
   "source": []
  }
 ],
 "metadata": {
  "kernelspec": {
   "display_name": "Python 3",
   "language": "python",
   "name": "python3"
  },
  "language_info": {
   "codemirror_mode": {
    "name": "ipython",
    "version": 3
   },
   "file_extension": ".py",
   "mimetype": "text/x-python",
   "name": "python",
   "nbconvert_exporter": "python",
   "pygments_lexer": "ipython3",
   "version": "3.6.4"
  }
 },
 "nbformat": 4,
 "nbformat_minor": 2
}
