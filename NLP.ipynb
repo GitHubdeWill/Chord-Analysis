{
 "cells": [
  {
   "cell_type": "code",
   "execution_count": 3,
   "metadata": {},
   "outputs": [],
   "source": [
    "from word2vec import *\n",
    "import numpy as np"
   ]
  },
  {
   "cell_type": "code",
   "execution_count": null,
   "metadata": {},
   "outputs": [],
   "source": [
    "dim = 12 # dimensionality of word vectors\n",
    "window_size = 4 # how many total surrounding words to include in context\n",
    "vocab_size = 12 # number of word types in vocab\n",
    "vocab = range(vocab_size) # small vocab for developing our model\n",
    "\n",
    "# now let's initialize our word embedding matrices\n",
    "W,C = init_parameters(dim, vocab_size)\n",
    "print(W.shape, C.shape)"
   ]
  }
 ],
 "metadata": {
  "kernelspec": {
   "display_name": "Python 3",
   "language": "python",
   "name": "python3"
  },
  "language_info": {
   "codemirror_mode": {
    "name": "ipython",
    "version": 3
   },
   "file_extension": ".py",
   "mimetype": "text/x-python",
   "name": "python",
   "nbconvert_exporter": "python",
   "pygments_lexer": "ipython3",
   "version": "3.6.4"
  }
 },
 "nbformat": 4,
 "nbformat_minor": 2
}
